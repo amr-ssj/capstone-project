{
 "cells": [
  {
   "cell_type": "markdown",
   "metadata": {},
   "source": [
    "# <center> CORONA VIRUS OUTBREAK ANALYSIS </center>"
   ]
  },
  {
   "cell_type": "markdown",
   "metadata": {},
   "source": [
    "## Import Required Libraries"
   ]
  },
  {
   "cell_type": "code",
   "execution_count": 17,
   "metadata": {},
   "outputs": [
    {
     "name": "stdout",
     "output_type": "stream",
     "text": [
      "Requirement already satisfied: folium in /opt/conda/envs/Python36/lib/python3.6/site-packages (0.10.1)\n",
      "Requirement already satisfied: jinja2>=2.9 in /opt/conda/envs/Python36/lib/python3.6/site-packages (from folium) (2.10)\n",
      "Requirement already satisfied: numpy in /opt/conda/envs/Python36/lib/python3.6/site-packages (from folium) (1.15.4)\n",
      "Requirement already satisfied: requests in /opt/conda/envs/Python36/lib/python3.6/site-packages (from folium) (2.21.0)\n",
      "Requirement already satisfied: branca>=0.3.0 in /opt/conda/envs/Python36/lib/python3.6/site-packages (from folium) (0.4.0)\n",
      "Requirement already satisfied: MarkupSafe>=0.23 in /opt/conda/envs/Python36/lib/python3.6/site-packages (from jinja2>=2.9->folium) (1.1.0)\n",
      "Requirement already satisfied: certifi>=2017.4.17 in /opt/conda/envs/Python36/lib/python3.6/site-packages (from requests->folium) (2019.11.28)\n",
      "Requirement already satisfied: chardet<3.1.0,>=3.0.2 in /opt/conda/envs/Python36/lib/python3.6/site-packages (from requests->folium) (3.0.4)\n",
      "Requirement already satisfied: urllib3<1.25,>=1.21.1 in /opt/conda/envs/Python36/lib/python3.6/site-packages (from requests->folium) (1.24.1)\n",
      "Requirement already satisfied: idna<2.9,>=2.5 in /opt/conda/envs/Python36/lib/python3.6/site-packages (from requests->folium) (2.8)\n",
      "Requirement already satisfied: six in /opt/conda/envs/Python36/lib/python3.6/site-packages (from branca>=0.3.0->folium) (1.12.0)\n"
     ]
    }
   ],
   "source": [
    "!pip install folium"
   ]
  },
  {
   "cell_type": "code",
   "execution_count": 18,
   "metadata": {},
   "outputs": [],
   "source": [
    "import numpy as np\n",
    "import pandas as pd\n",
    "pd.set_option(\"display.max_columns\", None)\n",
    "pd.set_option(\"display.max_rows\", None)\n",
    "import json\n",
    "from geopy.geocoders import Nominatim\n",
    "import requests\n",
    "from bs4 import BeautifulSoup\n",
    "from pandas.io.json import json_normalize\n",
    "import matplotlib.cm as cm\n",
    "import matplotlib.colors as colors\n",
    "from sklearn.cluster import KMeans\n",
    "import folium\n",
    "import geojson\n",
    "from sklearn.cluster import DBSCAN \n",
    "from sklearn.datasets.samples_generator import make_blobs \n",
    "from sklearn.preprocessing import StandardScaler \n",
    "import matplotlib.pyplot as plt "
   ]
  },
  {
   "cell_type": "markdown",
   "metadata": {},
   "source": [
    "## Load the Data into a Dataframe"
   ]
  },
  {
   "cell_type": "code",
   "execution_count": 19,
   "metadata": {},
   "outputs": [
    {
     "data": {
      "text/html": [
       "<div>\n",
       "<style scoped>\n",
       "    .dataframe tbody tr th:only-of-type {\n",
       "        vertical-align: middle;\n",
       "    }\n",
       "\n",
       "    .dataframe tbody tr th {\n",
       "        vertical-align: top;\n",
       "    }\n",
       "\n",
       "    .dataframe thead th {\n",
       "        text-align: right;\n",
       "    }\n",
       "</style>\n",
       "<table border=\"1\" class=\"dataframe\">\n",
       "  <thead>\n",
       "    <tr style=\"text-align: right;\">\n",
       "      <th></th>\n",
       "      <th>date</th>\n",
       "      <th>location</th>\n",
       "      <th>new_cases</th>\n",
       "      <th>new_deaths</th>\n",
       "      <th>total_cases</th>\n",
       "      <th>total_deaths</th>\n",
       "    </tr>\n",
       "  </thead>\n",
       "  <tbody>\n",
       "    <tr>\n",
       "      <th>0</th>\n",
       "      <td>2020-02-25</td>\n",
       "      <td>Afghanistan</td>\n",
       "      <td>NaN</td>\n",
       "      <td>NaN</td>\n",
       "      <td>1</td>\n",
       "      <td>NaN</td>\n",
       "    </tr>\n",
       "    <tr>\n",
       "      <th>1</th>\n",
       "      <td>2020-02-26</td>\n",
       "      <td>Afghanistan</td>\n",
       "      <td>0.0</td>\n",
       "      <td>NaN</td>\n",
       "      <td>1</td>\n",
       "      <td>NaN</td>\n",
       "    </tr>\n",
       "    <tr>\n",
       "      <th>2</th>\n",
       "      <td>2020-02-27</td>\n",
       "      <td>Afghanistan</td>\n",
       "      <td>0.0</td>\n",
       "      <td>NaN</td>\n",
       "      <td>1</td>\n",
       "      <td>NaN</td>\n",
       "    </tr>\n",
       "    <tr>\n",
       "      <th>3</th>\n",
       "      <td>2020-02-28</td>\n",
       "      <td>Afghanistan</td>\n",
       "      <td>0.0</td>\n",
       "      <td>NaN</td>\n",
       "      <td>1</td>\n",
       "      <td>NaN</td>\n",
       "    </tr>\n",
       "    <tr>\n",
       "      <th>4</th>\n",
       "      <td>2020-02-29</td>\n",
       "      <td>Afghanistan</td>\n",
       "      <td>0.0</td>\n",
       "      <td>NaN</td>\n",
       "      <td>1</td>\n",
       "      <td>NaN</td>\n",
       "    </tr>\n",
       "  </tbody>\n",
       "</table>\n",
       "</div>"
      ],
      "text/plain": [
       "         date     location  new_cases  new_deaths  total_cases  total_deaths\n",
       "0  2020-02-25  Afghanistan        NaN         NaN            1           NaN\n",
       "1  2020-02-26  Afghanistan        0.0         NaN            1           NaN\n",
       "2  2020-02-27  Afghanistan        0.0         NaN            1           NaN\n",
       "3  2020-02-28  Afghanistan        0.0         NaN            1           NaN\n",
       "4  2020-02-29  Afghanistan        0.0         NaN            1           NaN"
      ]
     },
     "execution_count": 19,
     "metadata": {},
     "output_type": "execute_result"
    }
   ],
   "source": [
    "df = pd.read_csv('https://covid.ourworldindata.org/data/full_data.csv')\n",
    "df.head()"
   ]
  },
  {
   "cell_type": "markdown",
   "metadata": {},
   "source": [
    "## Processing the Dataframe"
   ]
  },
  {
   "cell_type": "code",
   "execution_count": 20,
   "metadata": {},
   "outputs": [
    {
     "data": {
      "text/html": [
       "<div>\n",
       "<style scoped>\n",
       "    .dataframe tbody tr th:only-of-type {\n",
       "        vertical-align: middle;\n",
       "    }\n",
       "\n",
       "    .dataframe tbody tr th {\n",
       "        vertical-align: top;\n",
       "    }\n",
       "\n",
       "    .dataframe thead th {\n",
       "        text-align: right;\n",
       "    }\n",
       "</style>\n",
       "<table border=\"1\" class=\"dataframe\">\n",
       "  <thead>\n",
       "    <tr style=\"text-align: right;\">\n",
       "      <th></th>\n",
       "      <th>location</th>\n",
       "      <th>total_cases</th>\n",
       "      <th>total_deaths</th>\n",
       "    </tr>\n",
       "  </thead>\n",
       "  <tbody>\n",
       "    <tr>\n",
       "      <th>0</th>\n",
       "      <td>Albania</td>\n",
       "      <td>38</td>\n",
       "      <td>1.0</td>\n",
       "    </tr>\n",
       "    <tr>\n",
       "      <th>1</th>\n",
       "      <td>Albania</td>\n",
       "      <td>42</td>\n",
       "      <td>1.0</td>\n",
       "    </tr>\n",
       "    <tr>\n",
       "      <th>2</th>\n",
       "      <td>Albania</td>\n",
       "      <td>51</td>\n",
       "      <td>1.0</td>\n",
       "    </tr>\n",
       "    <tr>\n",
       "      <th>3</th>\n",
       "      <td>Algeria</td>\n",
       "      <td>25</td>\n",
       "      <td>1.0</td>\n",
       "    </tr>\n",
       "    <tr>\n",
       "      <th>4</th>\n",
       "      <td>Algeria</td>\n",
       "      <td>26</td>\n",
       "      <td>2.0</td>\n",
       "    </tr>\n",
       "  </tbody>\n",
       "</table>\n",
       "</div>"
      ],
      "text/plain": [
       "  location  total_cases  total_deaths\n",
       "0  Albania           38           1.0\n",
       "1  Albania           42           1.0\n",
       "2  Albania           51           1.0\n",
       "3  Algeria           25           1.0\n",
       "4  Algeria           26           2.0"
      ]
     },
     "execution_count": 20,
     "metadata": {},
     "output_type": "execute_result"
    }
   ],
   "source": [
    "df = df.dropna(axis = 0)\n",
    "df = df.reset_index()\n",
    "df.drop(columns = {'index', 'date', 'new_cases', 'new_deaths'}, inplace = True)\n",
    "df.head()"
   ]
  },
  {
   "cell_type": "code",
   "execution_count": 21,
   "metadata": {},
   "outputs": [
    {
     "data": {
      "text/html": [
       "<div>\n",
       "<style scoped>\n",
       "    .dataframe tbody tr th:only-of-type {\n",
       "        vertical-align: middle;\n",
       "    }\n",
       "\n",
       "    .dataframe tbody tr th {\n",
       "        vertical-align: top;\n",
       "    }\n",
       "\n",
       "    .dataframe thead th {\n",
       "        text-align: right;\n",
       "    }\n",
       "</style>\n",
       "<table border=\"1\" class=\"dataframe\">\n",
       "  <thead>\n",
       "    <tr style=\"text-align: right;\">\n",
       "      <th></th>\n",
       "      <th>location</th>\n",
       "      <th>total_cases</th>\n",
       "      <th>total_deaths</th>\n",
       "    </tr>\n",
       "  </thead>\n",
       "  <tbody>\n",
       "    <tr>\n",
       "      <th>0</th>\n",
       "      <td>Albania</td>\n",
       "      <td>131</td>\n",
       "      <td>3.0</td>\n",
       "    </tr>\n",
       "    <tr>\n",
       "      <th>1</th>\n",
       "      <td>Algeria</td>\n",
       "      <td>197</td>\n",
       "      <td>13.0</td>\n",
       "    </tr>\n",
       "    <tr>\n",
       "      <th>2</th>\n",
       "      <td>Argentina</td>\n",
       "      <td>291</td>\n",
       "      <td>13.0</td>\n",
       "    </tr>\n",
       "    <tr>\n",
       "      <th>3</th>\n",
       "      <td>Australia</td>\n",
       "      <td>1988</td>\n",
       "      <td>41.0</td>\n",
       "    </tr>\n",
       "    <tr>\n",
       "      <th>4</th>\n",
       "      <td>Austria</td>\n",
       "      <td>3395</td>\n",
       "      <td>6.0</td>\n",
       "    </tr>\n",
       "  </tbody>\n",
       "</table>\n",
       "</div>"
      ],
      "text/plain": [
       "    location  total_cases  total_deaths\n",
       "0    Albania          131           3.0\n",
       "1    Algeria          197          13.0\n",
       "2  Argentina          291          13.0\n",
       "3  Australia         1988          41.0\n",
       "4    Austria         3395           6.0"
      ]
     },
     "execution_count": 21,
     "metadata": {},
     "output_type": "execute_result"
    }
   ],
   "source": [
    "df = df.groupby(['location']).sum()\n",
    "df.drop(index = {'World'}, axis = 0, inplace = True)\n",
    "df = df.reset_index()\n",
    "df.head()"
   ]
  },
  {
   "cell_type": "markdown",
   "metadata": {},
   "source": [
    "### Create a Dataframe for the Countries with Latitude and Longitude Values"
   ]
  },
  {
   "cell_type": "code",
   "execution_count": 22,
   "metadata": {},
   "outputs": [
    {
     "data": {
      "text/html": [
       "<div>\n",
       "<style scoped>\n",
       "    .dataframe tbody tr th:only-of-type {\n",
       "        vertical-align: middle;\n",
       "    }\n",
       "\n",
       "    .dataframe tbody tr th {\n",
       "        vertical-align: top;\n",
       "    }\n",
       "\n",
       "    .dataframe thead th {\n",
       "        text-align: right;\n",
       "    }\n",
       "</style>\n",
       "<table border=\"1\" class=\"dataframe\">\n",
       "  <thead>\n",
       "    <tr style=\"text-align: right;\">\n",
       "      <th></th>\n",
       "      <th>location</th>\n",
       "      <th>Latitude</th>\n",
       "      <th>Longitude</th>\n",
       "    </tr>\n",
       "  </thead>\n",
       "  <tbody>\n",
       "    <tr>\n",
       "      <th>0</th>\n",
       "      <td>Andorra</td>\n",
       "      <td>42.546245</td>\n",
       "      <td>1.601554</td>\n",
       "    </tr>\n",
       "    <tr>\n",
       "      <th>1</th>\n",
       "      <td>United Arab Emirates</td>\n",
       "      <td>23.424076</td>\n",
       "      <td>53.847818</td>\n",
       "    </tr>\n",
       "    <tr>\n",
       "      <th>2</th>\n",
       "      <td>Afghanistan</td>\n",
       "      <td>33.939110</td>\n",
       "      <td>67.709953</td>\n",
       "    </tr>\n",
       "    <tr>\n",
       "      <th>3</th>\n",
       "      <td>Antigua and Barbuda</td>\n",
       "      <td>17.060816</td>\n",
       "      <td>-61.796428</td>\n",
       "    </tr>\n",
       "    <tr>\n",
       "      <th>4</th>\n",
       "      <td>Anguilla</td>\n",
       "      <td>18.220554</td>\n",
       "      <td>-63.068615</td>\n",
       "    </tr>\n",
       "  </tbody>\n",
       "</table>\n",
       "</div>"
      ],
      "text/plain": [
       "               location   Latitude  Longitude\n",
       "0               Andorra  42.546245   1.601554\n",
       "1  United Arab Emirates  23.424076  53.847818\n",
       "2           Afghanistan  33.939110  67.709953\n",
       "3   Antigua and Barbuda  17.060816 -61.796428\n",
       "4              Anguilla  18.220554 -63.068615"
      ]
     },
     "execution_count": 22,
     "metadata": {},
     "output_type": "execute_result"
    }
   ],
   "source": [
    "d = {'location': ['Andorra','United Arab Emirates','Afghanistan','Antigua and Barbuda','Anguilla','Albania','Armenia','Netherlands Antilles','Angola','Antarctica','Argentina','American Samoa','Austria','Australia','Aruba','Azerbaijan','Bosnia and Herzegovina','Barbados','Bangladesh','Belgium','Burkina Faso','Bulgaria','Bahrain','Burundi','Benin','Bermuda','Brunei','Bolivia','Brazil','Bahamas','Bhutan','Bouvet Island','Botswana','Belarus','Belize','Canada','Cocos [Keeling] Islands','Congo [DRC]','Central African Republic','Congo [Republic]','Switzerland','CÃ´te d''Ivoire','Cook Islands','Chile','Cameroon','China','Colombia','Costa Rica','Cuba','Cape Verde','Christmas Island','Cyprus','Czech Republic','Germany','Djibouti','Denmark','Dominica','Dominican Republic','Algeria','Ecuador','Estonia','Egypt','Western Sahara','Eritrea','Spain','Ethiopia','Finland','Fiji','Falkland Islands [Islas Malvinas]','Micronesia','Faroe Islands','France','Gabon','UK','Grenada','Georgia','French Guiana','Guernsey','Ghana','Gibraltar','Greenland','Gambia','Guinea','Guadeloupe','Equatorial Guinea','Greece','South Georgia and the South Sandwich Islands','Guatemala','Guam','Guinea-Bissau','Guyana','Gaza Strip','Hong Kong','Heard Island and McDonald Islands','Honduras','Croatia','Haiti','Hungary','Indonesia','Ireland','Israel','Isle of Man','India','British Indian Ocean Territory','Iraq','Iran','Iceland','Italy','Jersey','Jamaica','Jordan','Japan','Kenya','Kyrgyzstan','Cambodia','Kiribati','Comoros','Saint Kitts and Nevis','North Korea','South Korea','Kuwait','Cayman Islands','Kazakhstan','Laos','Lebanon','Saint Lucia','Liechtenstein','Sri Lanka','Liberia','Lesotho','Lithuania','Luxembourg','Latvia','Libya','Morocco','Monaco','Moldova','Montenegro','Madagascar','Marshall Islands','Macedonia [FYROM]','Mali','Myanmar [Burma]','Mongolia','Macau','Northern Mariana Islands','Martinique','Mauritania','Montserrat','Malta','Mauritius','Maldives','Malawi','Mexico','Malaysia','Mozambique','Namibia','New Caledonia','Niger','Norfolk Island','Nigeria','Nicaragua','Netherlands','Norway','Nepal','Nauru','Niue','New Zealand','Oman','Panama','Peru','French Polynesia','Papua New Guinea','Philippines','Pakistan','Poland','Saint Pierre and Miquelon','Pitcairn Islands','Puerto Rico','Palestinian Territories','Portugal','Palau','Paraguay','Qatar','RÃ©union','Romania','Serbia','Russia','Rwanda','Saudi Arabia','Solomon Islands','Seychelles','Sudan','Sweden','Singapore','Saint Helena','Slovenia','Svalbard and Jan Mayen','Slovakia','Sierra Leone','San Marino','Senegal','Somalia','Suriname','SÃ£o TomÃ© and PrÃ­ncipe','El Salvador','Syria','Swaziland','Turks and Caicos Islands','Chad','French Southern Territories','Togo','Thailand','Tajikistan','Tokelau','Timor-Leste','Turkmenistan','Tunisia','Tonga','Turkey','Trinidad and Tobago','Tuvalu','Taiwan','Tanzania','Ukraine','Uganda','US','Uruguay','Uzbekistan','Vatican City','Saint Vincent and the Grenadines','Venezuela','British Virgin Islands','U.S. Virgin Islands','Vietnam','Vanuatu','Wallis and Futuna','Samoa','Kosovo','Yemen','Mayotte','South Africa','Zambia','Zimbabwe'],\n",
    "     'Latitude': [42.546245,23.424076,33.93911,17.060816,18.220554,41.153332,40.069099,12.226079,-11.202692,-75.250973,-38.416097,-14.270972,47.516231,-25.274398,12.52111,40.143105,43.915886,13.193887,23.684994,50.503887,12.238333,42.733883,25.930414,-3.373056,9.30769,32.321384,4.535277,-16.290154,-14.235004,25.03428,27.514162,-54.423199,-22.328474,53.709807,17.189877,56.130366,-12.164165,-4.038333,6.611111,-0.228021,46.818188,7.539989,-21.236736,-35.675147,7.369722,35.86166,4.570868,9.748917,21.521757,16.002082,-10.447525,35.126413,49.817492,51.165691,11.825138,56.26392,15.414999,18.735693,28.033886,-1.831239,58.595272,26.820553,24.215527,15.179384,40.463667,9.145,61.92411,-16.578193,-51.796253,7.425554,61.892635,46.227638,-0.803689,55.378051,12.262776,42.315407,3.933889,49.465691,7.946527,36.137741,71.706936,13.443182,9.945587,16.995971,1.650801,39.074208,-54.429579,15.783471,13.444304,11.803749,4.860416,31.354676,22.396428,-53.08181,15.199999,45.1,18.971187,47.162494,-0.789275,53.41291,31.046051,54.236107,20.593684,-6.343194,33.223191,32.427908,64.963051,41.87194,49.214439,18.109581,30.585164,36.204824,-0.023559,41.20438,12.565679,-3.370417,-11.875001,17.357822,40.339852,35.907757,29.31166,19.513469,48.019573,19.85627,33.854721,13.909444,47.166,7.873054,6.428055,-29.609988,55.169438,49.815273,56.879635,26.3351,31.791702,43.750298,47.411631,42.708678,-18.766947,7.131474,41.608635,17.570692,21.913965,46.862496,22.198745,17.33083,14.641528,21.00789,16.742498,35.937496,-20.348404,3.202778,-13.254308,23.634501,4.210484,-18.665695,-22.95764,-20.904305,17.607789,-29.040835,9.081999,12.865416,52.132633,60.472024,28.394857,-0.522778,-19.054445,-40.900557,21.512583,8.537981,-9.189967,-17.679742,-6.314993,12.879721,30.375321,51.919438,46.941936,-24.703615,18.220833,31.952162,39.399872,7.51498,-23.442503,25.354826,-21.115141,45.943161,44.016521,61.52401,-1.940278,23.885942,-9.64571,-4.679574,12.862807,60.128161,1.352083,-24.143474,46.151241,77.553604,48.669026,8.460555,43.94236,14.497401,5.152149,3.919305,0.18636,13.794185,34.802075,-26.522503,21.694025,15.454166,-49.280366,8.619543,15.870032,38.861034,-8.967363,-8.874217,38.969719,33.886917,-21.178986,38.963745,10.691803,-7.109535,23.69781,-6.369028,48.379433,1.373333,37.09024,-32.522779,41.377491,41.902916,12.984305,6.42375,18.420695,18.335765,14.058324,-15.376706,-13.768752,-13.759029,42.602636,15.552727,-12.8275,-30.559482,-13.133897,-19.015438],\n",
    "     'Longitude': [1.601554,53.847818,67.709953,-61.796428,-63.068615,20.168331,45.038189,-69.060087,17.873887,-0.071389,-63.616672,-170.132217,14.550072,133.775136,-69.968338,47.576927,17.679076,-59.543198,90.356331,4.469936,-1.561593,25.48583,50.637772,29.918886,2.315834,-64.75737,114.727669,-63.588653,-51.92528,-77.39628,90.433601,3.413194,24.684866,27.953389,-88.49765,-106.346771,96.870956,21.758664,20.939444,15.827659,8.227512,-5.54708,-159.777671,-71.542969,12.354722,104.195397,-74.297333,-83.753428,-77.781167,-24.013197,105.690449,33.429859,15.472962,10.451526,42.590275,9.501785,-61.370976,-70.162651,1.659626,-78.183406,25.013607,30.802498,-12.885834,39.782334,-3.74922,40.489673,25.748151,179.414413,-59.523613,150.550812,-6.911806,2.213749,11.609444,-3.435973,-61.604171,43.356892,-53.125782,-2.585278,-1.023194,-5.345374,-42.604303,-15.310139,-9.696645,-62.067641,10.267895,21.824312,-36.587909,-90.230759,144.793731,-15.180413,-58.93018,34.308825,114.109497,73.504158,-86.241905,15.2,-72.285215,19.503304,113.921327,-8.24389,34.851612,-4.548056,78.96288,71.876519,43.679291,53.688046,-19.020835,12.56738,-2.13125,-77.297508,36.238414,138.252924,37.906193,74.766098,104.990963,-168.734039,43.872219,-62.782998,127.510093,127.766922,47.481766,-80.566956,66.923684,102.495496,35.862285,-60.978893,9.555373,80.771797,-9.429499,28.233608,23.881275,6.129583,24.603189,17.228331,-7.09262,7.412841,28.369885,19.37439,46.869107,171.184478,21.745275,-3.996166,95.956223,103.846656,113.543873,145.38469,-61.024174,-10.940835,-62.187366,14.375416,57.552152,73.22068,34.301525,-102.552784,101.975766,35.529562,18.49041,165.618042,8.081666,167.954712,8.675277,-85.207229,5.291266,8.468946,84.124008,166.931503,-169.867233,174.885971,55.923255,-80.782127,-75.015152,-149.406843,143.95555,121.774017,69.345116,19.145136,-56.27111,-127.439308,-66.590149,35.233154,-8.224454,134.58252,-58.443832,51.183884,55.536384,24.96676,21.005859,105.318756,29.873888,45.079162,160.156194,55.491977,30.217636,18.643501,103.819836,-10.030696,14.995463,23.670272,19.699024,-11.779889,12.457777,-14.452362,46.199616,-56.027783,6.613081,-88.89653,38.996815,31.465866,-71.797928,18.732207,69.348557,0.824782,100.992541,71.276093,-171.855881,125.727539,59.556278,9.537499,-175.198242,35.243322,-61.222503,177.64933,120.960515,34.888822,31.16558,32.290275,-95.712891,-55.765835,64.585262,12.453389,-61.287228,-66.58973,-64.639968,-64.896335,108.277199,166.959158,-177.156097,-172.104629,20.902977,48.516388,45.166244,22.937506,27.849332,29.154857]\n",
    "    }\n",
    "df2 = pd.DataFrame(data = d)\n",
    "df2.head()"
   ]
  },
  {
   "cell_type": "markdown",
   "metadata": {},
   "source": [
    "### Merge the Two Created Dataframes"
   ]
  },
  {
   "cell_type": "code",
   "execution_count": 23,
   "metadata": {},
   "outputs": [
    {
     "data": {
      "text/html": [
       "<div>\n",
       "<style scoped>\n",
       "    .dataframe tbody tr th:only-of-type {\n",
       "        vertical-align: middle;\n",
       "    }\n",
       "\n",
       "    .dataframe tbody tr th {\n",
       "        vertical-align: top;\n",
       "    }\n",
       "\n",
       "    .dataframe thead th {\n",
       "        text-align: right;\n",
       "    }\n",
       "</style>\n",
       "<table border=\"1\" class=\"dataframe\">\n",
       "  <thead>\n",
       "    <tr style=\"text-align: right;\">\n",
       "      <th></th>\n",
       "      <th>location</th>\n",
       "      <th>total_cases</th>\n",
       "      <th>total_deaths</th>\n",
       "      <th>Latitude</th>\n",
       "      <th>Longitude</th>\n",
       "    </tr>\n",
       "  </thead>\n",
       "  <tbody>\n",
       "    <tr>\n",
       "      <th>0</th>\n",
       "      <td>Albania</td>\n",
       "      <td>131.0</td>\n",
       "      <td>3.0</td>\n",
       "      <td>41.153332</td>\n",
       "      <td>20.168331</td>\n",
       "    </tr>\n",
       "    <tr>\n",
       "      <th>1</th>\n",
       "      <td>Algeria</td>\n",
       "      <td>197.0</td>\n",
       "      <td>13.0</td>\n",
       "      <td>28.033886</td>\n",
       "      <td>1.659626</td>\n",
       "    </tr>\n",
       "    <tr>\n",
       "      <th>2</th>\n",
       "      <td>Argentina</td>\n",
       "      <td>291.0</td>\n",
       "      <td>13.0</td>\n",
       "      <td>-38.416097</td>\n",
       "      <td>-63.616672</td>\n",
       "    </tr>\n",
       "    <tr>\n",
       "      <th>3</th>\n",
       "      <td>Australia</td>\n",
       "      <td>1988.0</td>\n",
       "      <td>41.0</td>\n",
       "      <td>-25.274398</td>\n",
       "      <td>133.775136</td>\n",
       "    </tr>\n",
       "    <tr>\n",
       "      <th>4</th>\n",
       "      <td>Austria</td>\n",
       "      <td>3395.0</td>\n",
       "      <td>6.0</td>\n",
       "      <td>47.516231</td>\n",
       "      <td>14.550072</td>\n",
       "    </tr>\n",
       "  </tbody>\n",
       "</table>\n",
       "</div>"
      ],
      "text/plain": [
       "    location  total_cases  total_deaths   Latitude   Longitude\n",
       "0    Albania        131.0           3.0  41.153332   20.168331\n",
       "1    Algeria        197.0          13.0  28.033886    1.659626\n",
       "2  Argentina        291.0          13.0 -38.416097  -63.616672\n",
       "3  Australia       1988.0          41.0 -25.274398  133.775136\n",
       "4    Austria       3395.0           6.0  47.516231   14.550072"
      ]
     },
     "execution_count": 23,
     "metadata": {},
     "output_type": "execute_result"
    }
   ],
   "source": [
    "df3 = df.merge(df2, on = 'location', how = 'right').dropna(axis = 0)\n",
    "df3.head()"
   ]
  },
  {
   "cell_type": "markdown",
   "metadata": {},
   "source": [
    "## Create a Geojson File from the Dataframe for Plotting the Map"
   ]
  },
  {
   "cell_type": "code",
   "execution_count": 8,
   "metadata": {},
   "outputs": [],
   "source": [
    "def df_to_geojson(df, properties, lat = 'Latitude', lon = 'Longitude'):\n",
    "    \"\"\"\n",
    "    Turn a dataframe containing point data into a geojson formatted python dictionary\n",
    "    \n",
    "    df : the dataframe to convert to geojson\n",
    "    properties : a list of columns in the dataframe to turn into geojson feature properties\n",
    "    lat : the name of the column in the dataframe that contains latitude data\n",
    "    lon : the name of the column in the dataframe that contains longitude data\n",
    "    \"\"\"\n",
    "    \n",
    "    # create a new python dict to contain our geojson data, using geojson format\n",
    "    geojson = {'type':'FeatureCollection', 'features':[]}\n",
    "\n",
    "    # loop through each row in the dataframe and convert each row to geojson format\n",
    "    for _, row in df.iterrows():\n",
    "        # create a feature template to fill in\n",
    "        feature = {'type':'Feature',\n",
    "                   'properties':{},\n",
    "                   'geometry':{'type':'Point',\n",
    "                               'coordinates':[]}}\n",
    "\n",
    "        # fill in the coordinates\n",
    "        feature['geometry']['coordinates'] = [row[lon],row[lat]]\n",
    "\n",
    "        # for each column, get the value and add it as a new feature property\n",
    "        for prop in properties:\n",
    "            feature['properties'][prop] = row[prop]\n",
    "        \n",
    "        # add this feature (aka, converted dataframe row) to the list of features inside our dict\n",
    "        geojson['features'].append(feature)\n",
    "    \n",
    "    return geojson\n",
    "\n",
    "cols = ['location', 'total_cases']\n",
    "geo_df = df_to_geojson(df3, properties = cols)\n",
    "#geo_df"
   ]
  },
  {
   "cell_type": "markdown",
   "metadata": {},
   "source": [
    "## Create the Map with Markers set on the Mentioned Countries"
   ]
  },
  {
   "cell_type": "code",
   "execution_count": 9,
   "metadata": {},
   "outputs": [
    {
     "data": {
      "text/html": [
       "<div style=\"width:100%;\"><div style=\"position:relative;width:100%;height:0;padding-bottom:60%;\"><iframe src=\"about:blank\" style=\"position:absolute;width:100%;height:100%;left:0;top:0;border:none !important;\" data-html=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 onload=\"this.contentDocument.open();this.contentDocument.write(atob(this.getAttribute('data-html')));this.contentDocument.close();\" allowfullscreen webkitallowfullscreen mozallowfullscreen></iframe></div></div>"
      ],
      "text/plain": [
       "<folium.folium.Map at 0x7fdb5b30cb70>"
      ]
     },
     "execution_count": 9,
     "metadata": {},
     "output_type": "execute_result"
    }
   ],
   "source": [
    "world_map = folium.Map(zoom_start = 2, tiles = 'Stamen Terrain')\n",
    "folium.Choropleth(geo_data = geo_df, data = df3, columns = ['location', 'total_cases'], key_on = 'feature.properties.location', fill_color = 'YlOrRd', legend_name = 'Corona Virus Impact').add_to(world_map)\n",
    "folium.LayerControl().add_to(world_map)\n",
    "world_map"
   ]
  },
  {
   "cell_type": "markdown",
   "metadata": {},
   "source": [
    "### Plot the Required Bar Graphs"
   ]
  },
  {
   "cell_type": "code",
   "execution_count": 10,
   "metadata": {},
   "outputs": [
    {
     "data": {
      "image/png": "[encoded data removed]",
      "text/plain": [
       "<Figure size 432x288 with 1 Axes>"
      ]
     },
     "metadata": {
      "needs_background": "light"
     },
     "output_type": "display_data"
    }
   ],
   "source": [
    "df3.head(10).plot(kind = 'bar', x = 'location', y = 'total_cases', color = 'red')\n",
    "plt.show()"
   ]
  },
  {
   "cell_type": "code",
   "execution_count": 11,
   "metadata": {},
   "outputs": [
    {
     "data": {
      "image/png": "[encoded data removed]",
      "text/plain": [
       "<Figure size 432x288 with 1 Axes>"
      ]
     },
     "metadata": {
      "needs_background": "light"
     },
     "output_type": "display_data"
    }
   ],
   "source": [
    "df3.tail(10).plot(kind = 'bar', x = 'location', y = 'total_cases', color = 'red')\n",
    "plt.show()"
   ]
  },
  {
   "cell_type": "code",
   "execution_count": 12,
   "metadata": {},
   "outputs": [
    {
     "data": {
      "image/png": "[encoded data removed]",
      "text/plain": [
       "<Figure size 432x288 with 1 Axes>"
      ]
     },
     "metadata": {
      "needs_background": "light"
     },
     "output_type": "display_data"
    }
   ],
   "source": [
    "df3.loc[11:31].plot(kind = 'bar', x = 'location', y = 'total_cases', color = 'red')\n",
    "plt.show()"
   ]
  },
  {
   "cell_type": "code",
   "execution_count": null,
   "metadata": {},
   "outputs": [],
   "source": []
  }
 ],
 "metadata": {
  "kernelspec": {
   "display_name": "Python 3.6",
   "language": "python",
   "name": "python3"
  },
  "language_info": {
   "codemirror_mode": {
    "name": "ipython",
    "version": 3
   },
   "file_extension": ".py",
   "mimetype": "text/x-python",
   "name": "python",
   "nbconvert_exporter": "python",
   "pygments_lexer": "ipython3",
   "version": "3.6.9"
  }
 },
 "nbformat": 4,
 "nbformat_minor": 1
}
