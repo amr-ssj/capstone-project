{
 "cells": [
  {
   "cell_type": "markdown",
   "metadata": {
    "collapsed": true
   },
   "source": [
    "## Import Libraries"
   ]
  },
  {
   "cell_type": "code",
   "execution_count": 38,
   "metadata": {},
   "outputs": [
    {
     "name": "stdout",
     "output_type": "stream",
     "text": [
      "Collecting folium\n",
      "\u001b[?25l  Downloading https://files.pythonhosted.org/packages/fd/a0/ccb3094026649cda4acd55bf2c3822bb8c277eb11446d13d384e5be35257/folium-0.10.1-py2.py3-none-any.whl (91kB)\n",
      "\u001b[K     |████████████████████████████████| 92kB 16.3MB/s eta 0:00:01\n",
      "\u001b[?25hRequirement already satisfied: jinja2>=2.9 in /opt/conda/envs/Python36/lib/python3.6/site-packages (from folium) (2.10)\n",
      "Requirement already satisfied: numpy in /opt/conda/envs/Python36/lib/python3.6/site-packages (from folium) (1.15.4)\n",
      "Collecting branca>=0.3.0 (from folium)\n",
      "  Downloading https://files.pythonhosted.org/packages/81/6d/31c83485189a2521a75b4130f1fee5364f772a0375f81afff619004e5237/branca-0.4.0-py3-none-any.whl\n",
      "Requirement already satisfied: requests in /opt/conda/envs/Python36/lib/python3.6/site-packages (from folium) (2.21.0)\n",
      "Requirement already satisfied: MarkupSafe>=0.23 in /opt/conda/envs/Python36/lib/python3.6/site-packages (from jinja2>=2.9->folium) (1.1.0)\n",
      "Requirement already satisfied: six in /opt/conda/envs/Python36/lib/python3.6/site-packages (from branca>=0.3.0->folium) (1.12.0)\n",
      "Requirement already satisfied: idna<2.9,>=2.5 in /opt/conda/envs/Python36/lib/python3.6/site-packages (from requests->folium) (2.8)\n",
      "Requirement already satisfied: certifi>=2017.4.17 in /opt/conda/envs/Python36/lib/python3.6/site-packages (from requests->folium) (2019.11.28)\n",
      "Requirement already satisfied: chardet<3.1.0,>=3.0.2 in /opt/conda/envs/Python36/lib/python3.6/site-packages (from requests->folium) (3.0.4)\n",
      "Requirement already satisfied: urllib3<1.25,>=1.21.1 in /opt/conda/envs/Python36/lib/python3.6/site-packages (from requests->folium) (1.24.1)\n",
      "Installing collected packages: branca, folium\n",
      "Successfully installed branca-0.4.0 folium-0.10.1\n"
     ]
    }
   ],
   "source": [
    "!pip install folium"
   ]
  },
  {
   "cell_type": "code",
   "execution_count": 39,
   "metadata": {},
   "outputs": [],
   "source": [
    "import numpy as np\n",
    "import pandas as pd\n",
    "pd.set_option(\"display.max_columns\", None)\n",
    "pd.set_option(\"display.max_rows\", None)\n",
    "import json\n",
    "from geopy.geocoders import Nominatim\n",
    "import requests\n",
    "from bs4 import BeautifulSoup\n",
    "from pandas.io.json import json_normalize\n",
    "import matplotlib.cm as cm\n",
    "import matplotlib.colors as colors\n",
    "from sklearn.cluster import KMeans\n",
    "import folium"
   ]
  },
  {
   "cell_type": "code",
   "execution_count": 7,
   "metadata": {},
   "outputs": [],
   "source": [
    "wikipedia_link='https://en.wikipedia.org/wiki/List_of_postal_codes_of_Canada:_M'\n",
    "raw_wikipedia_page= requests.get(wikipedia_link).text\n",
    "soup = BeautifulSoup(raw_wikipedia_page,'xml')"
   ]
  },
  {
   "cell_type": "markdown",
   "metadata": {},
   "source": [
    "### Extracting Raw Table from Web Page"
   ]
  },
  {
   "cell_type": "code",
   "execution_count": 9,
   "metadata": {},
   "outputs": [],
   "source": [
    "table = soup.find('table')\n",
    "Postcode      = []\n",
    "Borough       = []\n",
    "Neighbourhood = []\n",
    "for tr_cell in table.find_all('tr'):    \n",
    "    counter = 1\n",
    "    Postcode_var      = -1\n",
    "    Borough_var       = -1\n",
    "    Neighbourhood_var = -1    \n",
    "    for td_cell in tr_cell.find_all('td'):\n",
    "        if counter == 1: \n",
    "            Postcode_var = td_cell.text\n",
    "        if counter == 2: \n",
    "            Borough_var = td_cell.text\n",
    "            tag_a_Borough = td_cell.find('a')            \n",
    "        if counter == 3: \n",
    "            Neighbourhood_var = str(td_cell.text).strip()\n",
    "            tag_a_Neighbourhood = td_cell.find('a')            \n",
    "        counter += 1        \n",
    "        if (Postcode_var == 'Not assigned' or Borough_var == 'Not assigned' or Neighbourhood_var == 'Not assigned'):\n",
    "            continue\n",
    "    try:\n",
    "        if ((tag_a_Borough is None) or (tag_a_Neighbourhood is None)):\n",
    "            continue\n",
    "    except:\n",
    "        pass    \n",
    "    if(Postcode_var == -1 or Borough_var == -1 or Neighbourhood_var == -1):\n",
    "        continue    \n",
    "    Postcode.append(Postcode_var)\n",
    "    Borough.append(Borough_var)\n",
    "    Neighbourhood.append(Neighbourhood_var)"
   ]
  },
  {
   "cell_type": "markdown",
   "metadata": {},
   "source": [
    "### Integrating Postal codes with more than 1 neighbour"
   ]
  },
  {
   "cell_type": "code",
   "execution_count": 10,
   "metadata": {},
   "outputs": [
    {
     "name": "stdout",
     "output_type": "stream",
     "text": [
      "num of unique Postal codes: 78\n"
     ]
    }
   ],
   "source": [
    "unique_p = set(Postcode)\n",
    "print('num of unique Postal codes:', len(unique_p))\n",
    "Postcode_u      = []\n",
    "Borough_u       = []\n",
    "Neighbourhood_u = []\n",
    "for postcode_unique_element in unique_p:\n",
    "    p_var = ''; b_var = ''; n_var = ''; \n",
    "    for postcode_idx, postcode_element in enumerate(Postcode):\n",
    "        if postcode_unique_element == postcode_element:\n",
    "            p_var = postcode_element;\n",
    "            b_var = Borough[postcode_idx]\n",
    "            if n_var == '': \n",
    "                n_var = Neighbourhood[postcode_idx]\n",
    "            else:\n",
    "                n_var = n_var + ', ' + Neighbourhood[postcode_idx]\n",
    "    Postcode_u.append(p_var)\n",
    "    Borough_u.append(b_var)\n",
    "    Neighbourhood_u.append(n_var)"
   ]
  },
  {
   "cell_type": "markdown",
   "metadata": {},
   "source": [
    "### Creating the Dataframe"
   ]
  },
  {
   "cell_type": "code",
   "execution_count": 13,
   "metadata": {},
   "outputs": [
    {
     "data": {
      "text/html": [
       "<div>\n",
       "<style scoped>\n",
       "    .dataframe tbody tr th:only-of-type {\n",
       "        vertical-align: middle;\n",
       "    }\n",
       "\n",
       "    .dataframe tbody tr th {\n",
       "        vertical-align: top;\n",
       "    }\n",
       "\n",
       "    .dataframe thead th {\n",
       "        text-align: right;\n",
       "    }\n",
       "</style>\n",
       "<table border=\"1\" class=\"dataframe\">\n",
       "  <thead>\n",
       "    <tr style=\"text-align: right;\">\n",
       "      <th></th>\n",
       "      <th>Postcode</th>\n",
       "      <th>Borough</th>\n",
       "      <th>Neighbourhood</th>\n",
       "    </tr>\n",
       "  </thead>\n",
       "  <tbody>\n",
       "    <tr>\n",
       "      <th>0</th>\n",
       "      <td>M5A</td>\n",
       "      <td>Downtown Toronto</td>\n",
       "      <td>Harbourfront</td>\n",
       "    </tr>\n",
       "    <tr>\n",
       "      <th>1</th>\n",
       "      <td>M5S</td>\n",
       "      <td>Downtown Toronto</td>\n",
       "      <td>University of Toronto</td>\n",
       "    </tr>\n",
       "    <tr>\n",
       "      <th>2</th>\n",
       "      <td>M4E</td>\n",
       "      <td>East Toronto</td>\n",
       "      <td>The Beaches</td>\n",
       "    </tr>\n",
       "    <tr>\n",
       "      <th>3</th>\n",
       "      <td>M4V</td>\n",
       "      <td>Central Toronto</td>\n",
       "      <td>Deer Park, Rathnelly, South Hill</td>\n",
       "    </tr>\n",
       "    <tr>\n",
       "      <th>4</th>\n",
       "      <td>M5C</td>\n",
       "      <td>Downtown Toronto</td>\n",
       "      <td>St. James Town</td>\n",
       "    </tr>\n",
       "  </tbody>\n",
       "</table>\n",
       "</div>"
      ],
      "text/plain": [
       "  Postcode           Borough                     Neighbourhood\n",
       "0      M5A  Downtown Toronto                      Harbourfront\n",
       "1      M5S  Downtown Toronto             University of Toronto\n",
       "2      M4E      East Toronto                       The Beaches\n",
       "3      M4V   Central Toronto  Deer Park, Rathnelly, South Hill\n",
       "4      M5C  Downtown Toronto                    St. James Town"
      ]
     },
     "execution_count": 13,
     "metadata": {},
     "output_type": "execute_result"
    }
   ],
   "source": [
    "toronto_dict = {'Postcode':Postcode_u, 'Borough':Borough_u, 'Neighbourhood':Neighbourhood_u}\n",
    "df = pd.DataFrame.from_dict(toronto_dict)\n",
    "df.head()"
   ]
  },
  {
   "cell_type": "markdown",
   "metadata": {},
   "source": [
    "### Determining the Shape of the Created Dataframe"
   ]
  },
  {
   "cell_type": "code",
   "execution_count": 14,
   "metadata": {},
   "outputs": [
    {
     "data": {
      "text/plain": [
       "(78, 3)"
      ]
     },
     "execution_count": 14,
     "metadata": {},
     "output_type": "execute_result"
    }
   ],
   "source": [
    "df.shape"
   ]
  },
  {
   "cell_type": "markdown",
   "metadata": {},
   "source": [
    "### Create the Dataframe for Latitudes and Longitudes"
   ]
  },
  {
   "cell_type": "code",
   "execution_count": 26,
   "metadata": {},
   "outputs": [
    {
     "data": {
      "text/html": [
       "<div>\n",
       "<style scoped>\n",
       "    .dataframe tbody tr th:only-of-type {\n",
       "        vertical-align: middle;\n",
       "    }\n",
       "\n",
       "    .dataframe tbody tr th {\n",
       "        vertical-align: top;\n",
       "    }\n",
       "\n",
       "    .dataframe thead th {\n",
       "        text-align: right;\n",
       "    }\n",
       "</style>\n",
       "<table border=\"1\" class=\"dataframe\">\n",
       "  <thead>\n",
       "    <tr style=\"text-align: right;\">\n",
       "      <th></th>\n",
       "      <th>PostalCode</th>\n",
       "      <th>Latitude</th>\n",
       "      <th>Longitude</th>\n",
       "    </tr>\n",
       "  </thead>\n",
       "  <tbody>\n",
       "    <tr>\n",
       "      <th>0</th>\n",
       "      <td>M1B</td>\n",
       "      <td>43.806686</td>\n",
       "      <td>-79.194353</td>\n",
       "    </tr>\n",
       "    <tr>\n",
       "      <th>1</th>\n",
       "      <td>M1C</td>\n",
       "      <td>43.784535</td>\n",
       "      <td>-79.160497</td>\n",
       "    </tr>\n",
       "    <tr>\n",
       "      <th>2</th>\n",
       "      <td>M1E</td>\n",
       "      <td>43.763573</td>\n",
       "      <td>-79.188711</td>\n",
       "    </tr>\n",
       "    <tr>\n",
       "      <th>3</th>\n",
       "      <td>M1G</td>\n",
       "      <td>43.770992</td>\n",
       "      <td>-79.216917</td>\n",
       "    </tr>\n",
       "    <tr>\n",
       "      <th>4</th>\n",
       "      <td>M1H</td>\n",
       "      <td>43.773136</td>\n",
       "      <td>-79.239476</td>\n",
       "    </tr>\n",
       "  </tbody>\n",
       "</table>\n",
       "</div>"
      ],
      "text/plain": [
       "  PostalCode   Latitude  Longitude\n",
       "0        M1B  43.806686 -79.194353\n",
       "1        M1C  43.784535 -79.160497\n",
       "2        M1E  43.763573 -79.188711\n",
       "3        M1G  43.770992 -79.216917\n",
       "4        M1H  43.773136 -79.239476"
      ]
     },
     "execution_count": 26,
     "metadata": {},
     "output_type": "execute_result"
    }
   ],
   "source": [
    "df.rename(columns = {'Postcode': 'PostalCode'}, inplace = True)\n",
    "df2 = pd.read_csv('https://cocl.us/Geospatial_data')\n",
    "df2.rename(columns = {'Postal Code': 'PostalCode'}, inplace = True)\n",
    "df2.head()"
   ]
  },
  {
   "cell_type": "markdown",
   "metadata": {},
   "source": [
    "### Merge the Two Created Dataframes"
   ]
  },
  {
   "cell_type": "code",
   "execution_count": 27,
   "metadata": {},
   "outputs": [
    {
     "data": {
      "text/html": [
       "<div>\n",
       "<style scoped>\n",
       "    .dataframe tbody tr th:only-of-type {\n",
       "        vertical-align: middle;\n",
       "    }\n",
       "\n",
       "    .dataframe tbody tr th {\n",
       "        vertical-align: top;\n",
       "    }\n",
       "\n",
       "    .dataframe thead th {\n",
       "        text-align: right;\n",
       "    }\n",
       "</style>\n",
       "<table border=\"1\" class=\"dataframe\">\n",
       "  <thead>\n",
       "    <tr style=\"text-align: right;\">\n",
       "      <th></th>\n",
       "      <th>PostalCode</th>\n",
       "      <th>Borough</th>\n",
       "      <th>Neighbourhood</th>\n",
       "      <th>Latitude</th>\n",
       "      <th>Longitude</th>\n",
       "    </tr>\n",
       "  </thead>\n",
       "  <tbody>\n",
       "    <tr>\n",
       "      <th>0</th>\n",
       "      <td>M5A</td>\n",
       "      <td>Downtown Toronto</td>\n",
       "      <td>Harbourfront</td>\n",
       "      <td>43.654260</td>\n",
       "      <td>-79.360636</td>\n",
       "    </tr>\n",
       "    <tr>\n",
       "      <th>1</th>\n",
       "      <td>M5S</td>\n",
       "      <td>Downtown Toronto</td>\n",
       "      <td>University of Toronto</td>\n",
       "      <td>43.662696</td>\n",
       "      <td>-79.400049</td>\n",
       "    </tr>\n",
       "    <tr>\n",
       "      <th>2</th>\n",
       "      <td>M4E</td>\n",
       "      <td>East Toronto</td>\n",
       "      <td>The Beaches</td>\n",
       "      <td>43.676357</td>\n",
       "      <td>-79.293031</td>\n",
       "    </tr>\n",
       "    <tr>\n",
       "      <th>3</th>\n",
       "      <td>M4V</td>\n",
       "      <td>Central Toronto</td>\n",
       "      <td>Deer Park, Rathnelly, South Hill</td>\n",
       "      <td>43.686412</td>\n",
       "      <td>-79.400049</td>\n",
       "    </tr>\n",
       "    <tr>\n",
       "      <th>4</th>\n",
       "      <td>M5C</td>\n",
       "      <td>Downtown Toronto</td>\n",
       "      <td>St. James Town</td>\n",
       "      <td>43.651494</td>\n",
       "      <td>-79.375418</td>\n",
       "    </tr>\n",
       "  </tbody>\n",
       "</table>\n",
       "</div>"
      ],
      "text/plain": [
       "  PostalCode           Borough                     Neighbourhood   Latitude  \\\n",
       "0        M5A  Downtown Toronto                      Harbourfront  43.654260   \n",
       "1        M5S  Downtown Toronto             University of Toronto  43.662696   \n",
       "2        M4E      East Toronto                       The Beaches  43.676357   \n",
       "3        M4V   Central Toronto  Deer Park, Rathnelly, South Hill  43.686412   \n",
       "4        M5C  Downtown Toronto                    St. James Town  43.651494   \n",
       "\n",
       "   Longitude  \n",
       "0 -79.360636  \n",
       "1 -79.400049  \n",
       "2 -79.293031  \n",
       "3 -79.400049  \n",
       "4 -79.375418  "
      ]
     },
     "execution_count": 27,
     "metadata": {},
     "output_type": "execute_result"
    }
   ],
   "source": [
    "df3 = df.merge(df2, on = 'PostalCode', how = 'left')\n",
    "df3.head()"
   ]
  },
  {
   "cell_type": "markdown",
   "metadata": {},
   "source": [
    "### Use geopy Library to get the latitude and longitude values of Toronto"
   ]
  },
  {
   "cell_type": "code",
   "execution_count": 32,
   "metadata": {},
   "outputs": [
    {
     "name": "stdout",
     "output_type": "stream",
     "text": [
      "The geograpical coordinate of Toronto are 43.653963, -79.387207.\n"
     ]
    }
   ],
   "source": [
    "address = 'Toronto'\n",
    "geolocator = Nominatim(user_agent=\"my-application\")\n",
    "location = geolocator.geocode(address)\n",
    "latitude = location.latitude\n",
    "longitude = location.longitude\n",
    "print('The geograpical coordinate of Toronto are {}, {}.'.format(latitude, longitude))"
   ]
  },
  {
   "cell_type": "markdown",
   "metadata": {},
   "source": [
    "### Create a map of Toronto with neighborhoods superimposed on top"
   ]
  },
  {
   "cell_type": "code",
   "execution_count": 47,
   "metadata": {
    "scrolled": true
   },
   "outputs": [
    {
     "data": {
      "text/html": [
       "<div style=\"width:100%;\"><div style=\"position:relative;width:100%;height:0;padding-bottom:60%;\"><iframe src=\"about:blank\" style=\"position:absolute;width:100%;height:100%;left:0;top:0;border:none !important;\" data-html=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 onload=\"this.contentDocument.open();this.contentDocument.write(atob(this.getAttribute('data-html')));this.contentDocument.close();\" allowfullscreen webkitallowfullscreen mozallowfullscreen></iframe></div></div>"
      ],
      "text/plain": [
       "<folium.folium.Map at 0x7f3620e89ef0>"
      ]
     },
     "execution_count": 47,
     "metadata": {},
     "output_type": "execute_result"
    }
   ],
   "source": [
    "map1 = folium.Map(location = [latitude, longitude], zoom_start = 10)\n",
    "for lat, lng, borough, neighborhood in zip(df3['Latitude'], df3['Longitude'], df3['Borough'], df3['Neighbourhood']):\n",
    "    label = '{}, {}'.format(neighborhood, borough)\n",
    "    label = folium.Popup(label, parse_html = True)\n",
    "    folium.CircleMarker(\n",
    "        [lat, lng],\n",
    "        radius = 5,\n",
    "        popup = label,\n",
    "        color = 'blue',\n",
    "        fill = True,\n",
    "        fill_color = '#3186cc',\n",
    "        fill_opacity = 0.7).add_to(map1)    \n",
    "map1"
   ]
  },
  {
   "cell_type": "markdown",
   "metadata": {},
   "source": [
    "### Filter only boroughs that contain the word Toronto"
   ]
  },
  {
   "cell_type": "code",
   "execution_count": 44,
   "metadata": {},
   "outputs": [
    {
     "data": {
      "text/plain": [
       "['Downtown Toronto', 'East Toronto', 'Central Toronto', 'West Toronto']"
      ]
     },
     "execution_count": 44,
     "metadata": {},
     "output_type": "execute_result"
    }
   ],
   "source": [
    "borough_names = list(df3.Borough.unique())\n",
    "borough_with_toronto = []\n",
    "for x in borough_names:\n",
    "    if \"toronto\" in x.lower():\n",
    "        borough_with_toronto.append(x)        \n",
    "borough_with_toronto"
   ]
  },
  {
   "cell_type": "markdown",
   "metadata": {},
   "source": [
    "### Create a new DataFrame with only boroughs that contain the word Toronto"
   ]
  },
  {
   "cell_type": "code",
   "execution_count": 45,
   "metadata": {},
   "outputs": [
    {
     "name": "stdout",
     "output_type": "stream",
     "text": [
      "(28, 5)\n"
     ]
    },
    {
     "data": {
      "text/html": [
       "<div>\n",
       "<style scoped>\n",
       "    .dataframe tbody tr th:only-of-type {\n",
       "        vertical-align: middle;\n",
       "    }\n",
       "\n",
       "    .dataframe tbody tr th {\n",
       "        vertical-align: top;\n",
       "    }\n",
       "\n",
       "    .dataframe thead th {\n",
       "        text-align: right;\n",
       "    }\n",
       "</style>\n",
       "<table border=\"1\" class=\"dataframe\">\n",
       "  <thead>\n",
       "    <tr style=\"text-align: right;\">\n",
       "      <th></th>\n",
       "      <th>PostalCode</th>\n",
       "      <th>Borough</th>\n",
       "      <th>Neighbourhood</th>\n",
       "      <th>Latitude</th>\n",
       "      <th>Longitude</th>\n",
       "    </tr>\n",
       "  </thead>\n",
       "  <tbody>\n",
       "    <tr>\n",
       "      <th>0</th>\n",
       "      <td>M5A</td>\n",
       "      <td>Downtown Toronto</td>\n",
       "      <td>Harbourfront</td>\n",
       "      <td>43.654260</td>\n",
       "      <td>-79.360636</td>\n",
       "    </tr>\n",
       "    <tr>\n",
       "      <th>1</th>\n",
       "      <td>M5S</td>\n",
       "      <td>Downtown Toronto</td>\n",
       "      <td>University of Toronto</td>\n",
       "      <td>43.662696</td>\n",
       "      <td>-79.400049</td>\n",
       "    </tr>\n",
       "    <tr>\n",
       "      <th>2</th>\n",
       "      <td>M4E</td>\n",
       "      <td>East Toronto</td>\n",
       "      <td>The Beaches</td>\n",
       "      <td>43.676357</td>\n",
       "      <td>-79.293031</td>\n",
       "    </tr>\n",
       "    <tr>\n",
       "      <th>3</th>\n",
       "      <td>M4V</td>\n",
       "      <td>Central Toronto</td>\n",
       "      <td>Deer Park, Rathnelly, South Hill</td>\n",
       "      <td>43.686412</td>\n",
       "      <td>-79.400049</td>\n",
       "    </tr>\n",
       "    <tr>\n",
       "      <th>4</th>\n",
       "      <td>M5C</td>\n",
       "      <td>Downtown Toronto</td>\n",
       "      <td>St. James Town</td>\n",
       "      <td>43.651494</td>\n",
       "      <td>-79.375418</td>\n",
       "    </tr>\n",
       "  </tbody>\n",
       "</table>\n",
       "</div>"
      ],
      "text/plain": [
       "  PostalCode           Borough                     Neighbourhood   Latitude  \\\n",
       "0        M5A  Downtown Toronto                      Harbourfront  43.654260   \n",
       "1        M5S  Downtown Toronto             University of Toronto  43.662696   \n",
       "2        M4E      East Toronto                       The Beaches  43.676357   \n",
       "3        M4V   Central Toronto  Deer Park, Rathnelly, South Hill  43.686412   \n",
       "4        M5C  Downtown Toronto                    St. James Town  43.651494   \n",
       "\n",
       "   Longitude  \n",
       "0 -79.360636  \n",
       "1 -79.400049  \n",
       "2 -79.293031  \n",
       "3 -79.400049  \n",
       "4 -79.375418  "
      ]
     },
     "execution_count": 45,
     "metadata": {},
     "output_type": "execute_result"
    }
   ],
   "source": [
    "df3 = df3[df3['Borough'].isin(borough_with_toronto)].reset_index(drop=True)\n",
    "print(df3.shape)\n",
    "df3.head()"
   ]
  },
  {
   "cell_type": "markdown",
   "metadata": {},
   "source": [
    "### Create map of Toronto using latitude and longitude values"
   ]
  },
  {
   "cell_type": "code",
   "execution_count": 49,
   "metadata": {},
   "outputs": [
    {
     "data": {
      "text/html": [
       "<div style=\"width:100%;\"><div style=\"position:relative;width:100%;height:0;padding-bottom:60%;\"><iframe src=\"about:blank\" style=\"position:absolute;width:100%;height:100%;left:0;top:0;border:none !important;\" data-html=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 onload=\"this.contentDocument.open();this.contentDocument.write(atob(this.getAttribute('data-html')));this.contentDocument.close();\" allowfullscreen webkitallowfullscreen mozallowfullscreen></iframe></div></div>"
      ],
      "text/plain": [
       "<folium.folium.Map at 0x7f3620e65470>"
      ]
     },
     "execution_count": 49,
     "metadata": {},
     "output_type": "execute_result"
    }
   ],
   "source": [
    "map2 = folium.Map(location = [latitude, longitude], zoom_start = 10)\n",
    "for lat, lng, borough, neighborhood in zip(df3['Latitude'], df3['Longitude'], df3['Borough'], df3['Neighbourhood']):\n",
    "    label = '{}, {}'.format(neighborhood, borough)\n",
    "    label = folium.Popup(label, parse_html=True)\n",
    "    folium.CircleMarker(\n",
    "        [lat, lng],\n",
    "        radius = 5,\n",
    "        popup = label,\n",
    "        color = 'blue',\n",
    "        fill = True,\n",
    "        fill_color = '#3186cc',\n",
    "        fill_opacity = 0.7).add_to(map2)\n",
    "map2"
   ]
  }
 ],
 "metadata": {
  "kernelspec": {
   "display_name": "Python 3.6",
   "language": "python",
   "name": "python3"
  },
  "language_info": {
   "codemirror_mode": {
    "name": "ipython",
    "version": 3
   },
   "file_extension": ".py",
   "mimetype": "text/x-python",
   "name": "python",
   "nbconvert_exporter": "python",
   "pygments_lexer": "ipython3",
   "version": "3.6.9"
  }
 },
 "nbformat": 4,
 "nbformat_minor": 1
}
